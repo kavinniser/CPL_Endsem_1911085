{
 "cells": [
  {
   "cell_type": "code",
   "execution_count": 7,
   "id": "f6844229",
   "metadata": {},
   "outputs": [],
   "source": [
    "%run lib.ipynb"
   ]
  },
  {
   "cell_type": "code",
   "execution_count": 8,
   "id": "de39d6f4",
   "metadata": {},
   "outputs": [],
   "source": [
    "from math import exp\n",
    "from math import sqrt\n",
    "L = 4\n",
    "def f(x):\n",
    "    return exp(-(x**2)/(L**2))\n",
    "k = 1\n",
    "d = 1.5\n",
    "def g(x):\n",
    "    return f(x)/sqrt((x**2) + (d**2))"
   ]
  },
  {
   "cell_type": "code",
   "execution_count": 9,
   "id": "d88f13ef",
   "metadata": {},
   "outputs": [
    {
     "name": "stdout",
     "output_type": "stream",
     "text": [
      "Using simpson method with N = 12 gives the integral value to be 1.8728664575240428\n",
      "The potential at a height 1.5m above the point 1m away from x = 0 end of the wire is 1.8728664575240428\n"
     ]
    }
   ],
   "source": [
    "l = 1\n",
    "x1 = -l\n",
    "x2 = L-l\n",
    "eps = 10**(-6)\n",
    "\n",
    "N =12\n",
    "\n",
    "SM = (integral_simpson(g, x1, x2, N))\n",
    "\n",
    "print(\"Using simpson method with N = \" + str(N) + \" gives the integral value to be \" + str(SM))\n",
    "print(\"The potential at a height 1.5m above the point 1m away from x = 0 end of the wire is \" + str(SM))"
   ]
  }
 ],
 "metadata": {
  "kernelspec": {
   "display_name": "Python 3",
   "language": "python",
   "name": "python3"
  },
  "language_info": {
   "codemirror_mode": {
    "name": "ipython",
    "version": 3
   },
   "file_extension": ".py",
   "mimetype": "text/x-python",
   "name": "python",
   "nbconvert_exporter": "python",
   "pygments_lexer": "ipython3",
   "version": "3.8.8"
  }
 },
 "nbformat": 4,
 "nbformat_minor": 5
}
