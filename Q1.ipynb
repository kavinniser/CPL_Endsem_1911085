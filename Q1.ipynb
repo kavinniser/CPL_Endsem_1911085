{
 "cells": [
  {
   "cell_type": "code",
   "execution_count": 15,
   "id": "a027b3a9",
   "metadata": {},
   "outputs": [],
   "source": [
    "%run lib.ipynb"
   ]
  },
  {
   "cell_type": "code",
   "execution_count": 16,
   "id": "a2750b7c",
   "metadata": {},
   "outputs": [
    {
     "name": "stdout",
     "output_type": "stream",
     "text": [
      "4.139495798319328\n"
     ]
    }
   ],
   "source": [
    "R = 0.0821\n",
    "P = 5.95\n",
    "T = 300\n",
    "\n",
    "guess_V0 = R*T/P\n",
    "print(guess_V0)"
   ]
  },
  {
   "cell_type": "code",
   "execution_count": 17,
   "id": "8f2005bd",
   "metadata": {},
   "outputs": [
    {
     "name": "stdout",
     "output_type": "stream",
     "text": [
      "Nearest root of the given function for the given value of x 4.139495798319328 is 3.9299487677798326\n"
     ]
    }
   ],
   "source": [
    "a = 6.254\n",
    "b = 0.05422\n",
    "R = 0.0821\n",
    "P = 5.95\n",
    "T = 300\n",
    "eps = 10**(-6)\n",
    "def f(x):\n",
    "    return P*x + a/x - (a*b)/(x**2) - P*b - R*T\n",
    "x=guess_V0\n",
    "root=newton_raphson(x,f)\n",
    "print(\"Nearest root of the given function for the given value of x \" + str(x) + \" is \"+str(root))"
   ]
  },
  {
   "cell_type": "code",
   "execution_count": null,
   "id": "0c019e91",
   "metadata": {},
   "outputs": [],
   "source": []
  }
 ],
 "metadata": {
  "kernelspec": {
   "display_name": "Python 3",
   "language": "python",
   "name": "python3"
  },
  "language_info": {
   "codemirror_mode": {
    "name": "ipython",
    "version": 3
   },
   "file_extension": ".py",
   "mimetype": "text/x-python",
   "name": "python",
   "nbconvert_exporter": "python",
   "pygments_lexer": "ipython3",
   "version": "3.8.8"
  }
 },
 "nbformat": 4,
 "nbformat_minor": 5
}
